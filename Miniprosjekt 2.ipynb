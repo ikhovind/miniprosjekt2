{
 "cells": [
  {
   "cell_type": "markdown",
   "id": "alive-safety",
   "metadata": {},
   "source": [
    "## Innledning\n",
    "Miniprosjekt 2 skal løses fordi Ingebrigt har vært lat og trenger derfor dette prosjektet for å kunne gå opp til eksamen :flushed:"
   ]
  },
  {
   "cell_type": "markdown",
   "id": "hindu-chrome",
   "metadata": {},
   "source": [
    "## Teori\n",
    "her så skal vi løse:\n",
    " * oppgave 1: \n",
    "    * Forklar i korte trekk teorien bak eulers metode. Fortell goså hvordan denne kan forbedres i andre metoder"
   ]
  },
  {
   "cell_type": "code",
   "execution_count": null,
   "id": "fundamental-mailman",
   "metadata": {},
   "outputs": [],
   "source": [
    "### KODE ### \n",
    "# oppgave 2:\n",
    "# oppgave 3:\n",
    "# oppgave 4:\n",
    "# oppgave 5:"
   ]
  },
  {
   "cell_type": "markdown",
   "id": "textile-albert",
   "metadata": {},
   "source": [
    "## Resultater\n",
    "Her skal vi løse:\n",
    "* Deler av oppgave 2:\n",
    "    * Test ut Matlab/Python klassen for Runge-Kutta-Fehlberg dere finner i filen i BB på et initialverdisystem med minst 2 likninger dere kjenner eksakt løsning på. Ta for eksempel en oppgave fra boka. Finn global feil og sammenlign med akkumulert relativ lokal feil. Har dere konroll på feilen? Bestem forholdet mellom modeltid og bregningstid som en funskjon av toleransen. Hva er optimal toleranse om dere ønsker utregnigner i sanntid? I resten av oppgaven skal dere bruke Runge-Kutta-Fehlberg\n",
    "* Oppgave 3:\n",
    "    * La startbetingelsen være som i oppgaven i boka og visualiser løsningen i for toleranse T_4\n",
    "    \n",
    "* Deler av oppgave 4:\n",
    "    * Gjør oppgave 2 om igjen men tegn forholdet mellom modelltid og beregningstid. Hva er minste toleranse som gir sanntid utregning. (Modelltid er variabelen det deriveres med hensyn på. Beregningstid er tiden det tar å kjøre algoritmen.)\n",
    "* Deler av Oppgave 5: \n",
    "    * Visualiser tre løsninger av problemet med toleranser T4, T5 og T6 henholdsvis. La tiden gå i 200 sekunder. Vil banene være de samme i hele perioden? Forklar hva du ser"
   ]
  },
  {
   "cell_type": "markdown",
   "id": "important-input",
   "metadata": {},
   "source": [
    "## Diskusjon\n",
    "Her skal vi løse\n",
    " * Deler av oppgave 2:\n",
    "     * Test ut Matlab/Python klassen for Runge-Kutta-Fehlberg dere finner i filen i BB på et initialverdisystem med minst 2 likninger dere kjenner eksakt løsning på. Ta for eksempel en oppgave fra boka. Finn global feil og sammenlign med akkumulert relativ lokal feil. Har dere konroll på feilen? Bestem forholdet mellom modeltid og bregningstid som en funskjon av toleransen. Hva er optimal toleranse om dere ønsker utregnigner i sanntid? I resten av oppgaven skal dere bruke Runge-Kutta-Fehlberg\n",
    " * Deler av oppgave 4:\n",
    "     * Gjør oppgave 2 om igjen men tegn forholdet mellom modelltid og beregningstid. Hva er minste toleranse som gir sanntid utregning. (Modelltid er variabelen det deriveres med hensyn på. Beregningstid er tiden det tar å kjøre algoritmen.)\n",
    " * Deler av oppgave 5:\n",
    "    * Visualiser tre løsninger av problemet med toleranser T4, T5 og T6 henholdsvis. La tiden gå i 200 sekunder. Vil banene være de samme i hele perioden? Forklar hva du ser"
   ]
  },
  {
   "cell_type": "markdown",
   "id": "comparative-worthy",
   "metadata": {},
   "source": [
    "## Referanseliste"
   ]
  }
 ],
 "metadata": {
  "kernelspec": {
   "display_name": "Python 3",
   "language": "python",
   "name": "python3"
  },
  "language_info": {
   "codemirror_mode": {
    "name": "ipython",
    "version": 3
   },
   "file_extension": ".py",
   "mimetype": "text/x-python",
   "name": "python",
   "nbconvert_exporter": "python",
   "pygments_lexer": "ipython3",
   "version": "3.9.5"
  }
 },
 "nbformat": 4,
 "nbformat_minor": 5
}
